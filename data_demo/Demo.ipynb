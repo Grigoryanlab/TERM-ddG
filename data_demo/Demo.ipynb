{
 "cells": [
  {
   "cell_type": "markdown",
   "metadata": {},
   "source": [
    "python ../mutListPrepare.py --p 1EY0.pdb --o 1EY0.tab"
   ]
  },
  {
   "cell_type": "markdown",
   "metadata": {},
   "source": [
    "python -m pdb ../mutationListIteration.py --l 1EY0.tab --he nr --homof S2648.homo "
   ]
  },
  {
   "cell_type": "markdown",
   "metadata": {},
   "source": [
    "python -m pdb /cellar/users/f6zheng/Stability_PlosOne/EnsemblePreparation.py --pkl /cellar/users/f6zheng/Stability_PlosOne/data_demo/36372.shared.pkl --p 1EY0_A6.pdb 1EY0_A6_A8.pdb --homo 1nsn_S 1ey0_A 2f0g_A 2f0d_A 2f0j_A 2f0f_A 2ey5_A 2eyh_A 2eyl_A 2eyo_A 2f0p_A 2f0i_A 1snm_A 2f0o_A 1nuc_A 1kdb_A 1ey4_A 1ey7_A 2f0e_A 2f0h_A 2f0k_A 1kdc_A 2sns_A 1enc_A 2f0t_A 2exz_A 2ey2_A 2eym_A 4id6_A 1kda_A 4odg_A 2f0m_A 2f0s_A 4h7b_A 2f0n_A 1a2t_A 2f0u_A 1ey5_A 2ey1_A 2ey6_A 2eyf_A 2eyj_A 2eyp_A 2f0l_A 2f0q_A 4r8n_A 1ey6_A 1sye_A 2snm_A 1syg_A 4k5x_A 4k14_A 1kaa_A 1f2m_A 2f0v_A 1syc_A 4kd4_A 2f0w_A 1jok_A 1kab_A 4i65_A 4k6d_A 4k8j_A 1f2y_A 1f2z_A 1ena_A 1stb_A 4k8i_A 1sty_A 4g57_A 4qb4_A 1ii3_A 1sta_A 4k5w_A 2m00_A 1ihz_A 2kq3_A 4qf4_A 1snp_A 1ey8_A 1syb_A 1snq_A 1ey9_A 3dmu_A 2pyk_A 2pw5_A 2pzu_A 1u9r_A 2oxp_A 2rks_A 3d6c_A 1eyc_A 1eqv_A 1eya_A 2qdb_A 1ez6_A 2rdf_A 3u9o_A 4evo_A 4e6i_A 3t16_A 2pqe_A 1snd_A 3bdc_A 4f8m_A 3nk9_A 3nqt_A 3pmf_A 3lx0_A 3mxp_A 4kta_A 4kv6_A 3t13_A 4df7_A 3mhb_A 3mz5_A 3np8_A 3nxw_A 3oso_A 3meh_A 4khv_A 4iun_A 4j1m_A 4pmb_A 4j6h_A 3d4w_A 3dhq_A 4yij_A 4ial_A 4iz8_A 3hej_A 3owf_A 4k2l_A 3h6m_A 3qol_A 3tp7_A 3c1f_A 3hzx_A 3qoj_A 3ruz_A 4hmi_A 3d8g_A 3sk5_A 4eqo_A 4ky5_A 4ky7_A 4eqp_A 3c1e_A 3e5s_A 3eji_A 3erq_A 3evq_A 3tp8_A 4ndx_A 3mvv_A 2rbm_A 4hmj_A 4ky6_A 3ero_A 4miu_A 4rkb_A 4rkl_A 4laa_A 3d4d_A 1tt2_A 3sk8_A 1tqo_A 4pny_A 4me5_A 3v2t_A 3va5_A 4du9_A 4n9t_A 3itp_A 4nmz_A 3sxh_A 4dfa_A 4dgz_A 4f7x_A 4nkl_A 3sk4_A 4np5_A 4ol7_A 4kjn_A 3shl_A 3p1h_A 4k5v_A 4kjo_A 4n9p_A 3qb3_A 4hth_A 3p75_A 4kd3_A 3nhh_A 3qon_A 3tp6_A 4pmc_A 4eqn_A 4k2k_A 2khs_A 3tme_A 2of1_A 2oeo_A 3tp5_A 3sk6_A 2f3w_A 2f3v_A 1rkn_A 2sob_A 2khs_B 2fxy_A 4qmg_A --rmsd 0.267 0.296 --crind 0 0 --ncon 1"
   ]
  }
 ],
 "metadata": {
  "anaconda-cloud": {},
  "kernelspec": {
   "display_name": "Python [default]",
   "language": "python",
   "name": "python2"
  },
  "language_info": {
   "codemirror_mode": {
    "name": "ipython",
    "version": 2
   },
   "file_extension": ".py",
   "mimetype": "text/x-python",
   "name": "python",
   "nbconvert_exporter": "python",
   "pygments_lexer": "ipython2",
   "version": "2.7.12"
  }
 },
 "nbformat": 4,
 "nbformat_minor": 1
}
